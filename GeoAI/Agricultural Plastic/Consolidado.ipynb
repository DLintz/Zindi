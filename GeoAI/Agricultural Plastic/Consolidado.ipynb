{
 "cells": [
  {
   "cell_type": "code",
   "execution_count": null,
   "id": "ef170122-b294-4657-998e-5a772c715d91",
   "metadata": {},
   "outputs": [],
   "source": [
    "import pandas as pd\n",
    "import numpy as np\n",
    "import random\n",
    "from sklearn.model_selection import train_test_split\n",
    "from sklearn.preprocessing import Normalizer\n",
    "import matplotlib.pyplot as plt"
   ]
  },
  {
   "cell_type": "code",
   "execution_count": null,
   "id": "d1efd9fb-9a54-4730-ba8f-57c8d2f50490",
   "metadata": {},
   "outputs": [],
   "source": [
    "SEED = 1\n",
    "random.seed(SEED)\n",
    "np.random.seed(SEED)"
   ]
  },
  {
   "cell_type": "code",
   "execution_count": null,
   "id": "11e14097-9261-46de-8ab8-8ae5cb86d44f",
   "metadata": {},
   "outputs": [],
   "source": [
    "Kenya = pd.read_csv(\"GeoAI/Agricultural Plastic/Data/Kenya_training.csv\")\n",
    "Spain =  pd.read_csv(\"GeoAI/Agricultural Plastic/Data/Spain_training.csv\")\n",
    "VNM =  pd.read_csv(\"GeoAI/Agricultural Plastic/Data/VNM_training.csv\")\n",
    "VNM.rename(columns={'Lat': 'lat', 'Lon': 'lon'}, inplace=True)\n",
    "df = pd.concat([Kenya, Spain, VNM], axis=0)"
   ]
  },
  {
   "cell_type": "code",
   "execution_count": null,
   "id": "243b4a3b-b406-4cbe-b274-db2da8e4ac11",
   "metadata": {},
   "outputs": [],
   "source": [
    "y_ = df['TARGET']-1\n",
    "X_ = df[['lat', 'lon', 'blue_p50', 'green_p50', 'nir_p50', 'nira_p50', 're1_p50', 're2_p50', \n",
    "         're3_p50', 'red_p50', 'swir1_p50', 'swir2_p50', 'VV_p50', 'VH_p50']]"
   ]
  },
  {
   "cell_type": "code",
   "execution_count": null,
   "id": "609e6a05-f2ac-430e-bc36-5307312c234c",
   "metadata": {},
   "outputs": [],
   "source": [
    "X_train, X_eval, y_train, y_eval = train_test_split(X_, y_, test_size=0.1, random_state=1)"
   ]
  },
  {
   "cell_type": "code",
   "execution_count": null,
   "id": "4a05e39a-81eb-4a20-ac68-4d24836c2af4",
   "metadata": {},
   "outputs": [],
   "source": [
    "from sklearn.ensemble import RandomForestClassifier\n",
    "\n",
    "RFR = RandomForestClassifier()\n",
    "RFR.fit(X_train, y_train)\n",
    "RFR.score(X_eval, y_eval)"
   ]
  },
  {
   "cell_type": "code",
   "execution_count": null,
   "id": "86a27d79-acba-43a9-a5c0-37b8cb1a8345",
   "metadata": {},
   "outputs": [],
   "source": [
    "from sklearn.ensemble import GradientBoostingClassifier\n",
    "\n",
    "GBR = GradientBoostingClassifier()\n",
    "GBR.fit(X_train, y_train)\n",
    "GBR.score(X_eval, y_eval)"
   ]
  },
  {
   "cell_type": "code",
   "execution_count": null,
   "id": "91eba8a9-2c2c-4fa3-8255-5fb437a52e96",
   "metadata": {},
   "outputs": [],
   "source": [
    "from catboost import CatBoostClassifier\n",
    "\n",
    "CAT = CatBoostClassifier()\n",
    "CAT.fit(X_train, y_train, silent=True)\n",
    "print(CAT.score(X_eval, y_eval))"
   ]
  },
  {
   "cell_type": "code",
   "execution_count": null,
   "id": "e34be184-4592-498b-9965-1d0c451bca9b",
   "metadata": {},
   "outputs": [],
   "source": [
    "from lightgbm import LGBMClassifier\n",
    "\n",
    "LGB = LGBMClassifier(force_col_wise=True)\n",
    "LGB.fit(X_train, y_train)\n",
    "print(LGB.score(X_eval, y_eval))"
   ]
  },
  {
   "cell_type": "code",
   "execution_count": null,
   "id": "f5a1c263-8c31-48da-ab74-e5e27fa2ca20",
   "metadata": {},
   "outputs": [],
   "source": [
    "from xgboost import XGBClassifier\n",
    "XGB = XGBClassifier()\n",
    "XGB.fit(X_train, y_train, eval_set=[(X_eval, y_eval)], verbose=False)\n",
    "print(XGB.score(X_eval, y_eval))"
   ]
  },
  {
   "cell_type": "markdown",
   "id": "8138278c-9b10-4c23-933c-ca1d78b96214",
   "metadata": {},
   "source": [
    "## Submission"
   ]
  },
  {
   "cell_type": "code",
   "execution_count": null,
   "id": "e60dbc74-9043-43f9-bafd-7678d59aeeda",
   "metadata": {},
   "outputs": [],
   "source": [
    "Kenya = pd.read_csv(\"GeoAI/Agricultural Plastic/Data/Kenya_testing.csv\")\n",
    "Spain =  pd.read_csv(\"GeoAI/Agricultural Plastic/Data/Spain_validation.csv\")\n",
    "VNM =  pd.read_csv(\"GeoAI/Agricultural Plastic/Data/VNM_testing.csv\")\n",
    "VNM.rename(columns={'Lon': 'lon', 'Lat': 'lat'}, inplace=True)\n",
    "\n",
    "submission = pd.DataFrame()\n",
    "country = ['Kenya', 'Spain', 'VNM']\n",
    "files = [Kenya, Spain, VNM]"
   ]
  },
  {
   "cell_type": "code",
   "execution_count": null,
   "id": "fce340d8-2983-41b2-804e-c36aa0c1dec0",
   "metadata": {},
   "outputs": [],
   "source": [
    "for i in range(3):\n",
    "    tmp = pd.DataFrame()\n",
    "    # Create ID for submission file\n",
    "    ID = [country[i] + '_' + str(x) for x in files[i]['ID']]\n",
    "    # Predict\n",
    "    X_ = files[i][['lat', 'lon', 'blue_p50', 'green_p50', 'nir_p50', 'nira_p50', 're1_p50', 're2_p50', \n",
    "         're3_p50', 'red_p50', 'swir1_p50', 'swir2_p50', 'VV_p50', 'VH_p50']]\n",
    "    rfr  = RFR.pred_proba(X_)*0.96\n",
    "    gbr  = GBR.pred_proba(X_)*0.96\n",
    "    cat  = GBR.pred_proba(X_)*0.97\n",
    "    lgb = LGB.pred_proba(X_)*0.98\n",
    "    xgb = XGB.pred_proba(X_)*0.98\n",
    "\n",
    "pred = (rfr+gbr+cat+lgb+xgb)/(0.96+0.96+0.97+0.98+0.98)"
   ]
  },
  {
   "cell_type": "code",
   "execution_count": null,
   "id": "2a9efd29",
   "metadata": {},
   "outputs": [],
   "source": [
    "pred = np.round((rfr+gbr+cat+lgb+xgb)/5,0).astype(int)\n",
    "    \n",
    "    TARGET = pred+1\n",
    "    \n",
    "    tmp[\"ID\"] = ID\n",
    "    tmp[\"TARGET\"] = TARGET\n",
    "    submission = pd.concat([submission, tmp], axis=0)\n",
    "submission.to_csv('submission_2.csv',index=False)"
   ]
  },
  {
   "cell_type": "markdown",
   "id": "3adea0ad-8b40-49c8-82df-463a8be6ee9a",
   "metadata": {},
   "source": [
    "## Verificacao"
   ]
  },
  {
   "cell_type": "code",
   "execution_count": null,
   "id": "21365258-2ae0-4489-b185-f7e0731b8723",
   "metadata": {},
   "outputs": [],
   "source": [
    "consolidado_0 = pd.read_csv('submission_0.csv')\n",
    "consolidado_2 = pd.read_csv('submission_2.csv')\n",
    "\n",
    "c = pd.DataFrame()\n",
    "c['s0'] = consolidado_0['TARGET']\n",
    "c['s2'] = consolidado_2['TARGET']\n",
    "\n",
    "c['diferente'] = (c['s0'] != c['s2'])\n",
    "\n",
    "# Contando quantas vezes os valores são diferentes\n",
    "num_dif = c['diferente'].sum()\n",
    "num_dif\n",
    "\n",
    "num_dif/c.shape[0]"
   ]
  }
 ],
 "metadata": {
  "kernelspec": {
   "display_name": "Python 3 (ipykernel)",
   "language": "python",
   "name": "python3"
  }
 },
 "nbformat": 4,
 "nbformat_minor": 5
}
