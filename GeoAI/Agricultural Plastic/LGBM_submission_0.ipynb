{
 "cells": [
  {
   "cell_type": "code",
   "execution_count": 2,
   "id": "c70c1ca4-8ea4-4345-9225-313aeb03d632",
   "metadata": {},
   "outputs": [],
   "source": [
    "import pandas as pd\n",
    "import numpy as np\n",
    "import random\n",
    "from sklearn.model_selection import train_test_split\n",
    "from lightgbm import LGBMClassifier\n",
    "import matplotlib.pyplot as plt"
   ]
  },
  {
   "cell_type": "code",
   "execution_count": 3,
   "id": "52fee4fb-981b-4867-9dc6-e3301aad466d",
   "metadata": {},
   "outputs": [],
   "source": [
    "SEED = 1\n",
    "random.seed(SEED)\n",
    "np.random.seed(SEED)"
   ]
  },
  {
   "cell_type": "code",
   "execution_count": 8,
   "id": "f37740be-16b4-4ff8-ba7c-cced79505ebf",
   "metadata": {},
   "outputs": [],
   "source": [
    "Kenya = pd.read_csv(\"./Data/Kenya_training.csv\")\n",
    "Spain =  pd.read_csv(\"./Data/Spain_training.csv\")\n",
    "VNM =  pd.read_csv(\"./Data/VNM_training.csv\")\n",
    "VNM.rename(columns={'Lat': 'lat', 'Lon': 'lon'}, inplace=True)\n",
    "\n",
    "df = pd.concat([Kenya, Spain, VNM], axis=0)"
   ]
  },
  {
   "cell_type": "code",
   "execution_count": 10,
   "id": "b975b484-c542-4dba-a7d4-06798633e05d",
   "metadata": {},
   "outputs": [],
   "source": [
    "y_ = df['TARGET']\n",
    "X_ = df[['blue_p50', 'green_p50', 'nir_p50', 'nira_p50', 're1_p50', 're2_p50', \n",
    "         're3_p50', 'red_p50', 'swir1_p50', 'swir2_p50', 'VV_p50', 'VH_p50']]"
   ]
  },
  {
   "cell_type": "code",
   "execution_count": 12,
   "id": "aa7bf088-7717-4d9a-bde0-bb05d2b144da",
   "metadata": {},
   "outputs": [],
   "source": [
    "X_train, X_eval, y_train, y_eval = train_test_split(X_, y_, test_size=0.1, random_state=1)"
   ]
  },
  {
   "cell_type": "code",
   "execution_count": 14,
   "id": "111c5c39-10bb-4484-9f83-ce542b727bf1",
   "metadata": {},
   "outputs": [
    {
     "name": "stdout",
     "output_type": "stream",
     "text": [
      "[LightGBM] [Info] Number of positive: 1324, number of negative: 1218\n",
      "[LightGBM] [Info] Total Bins 3060\n",
      "[LightGBM] [Info] Number of data points in the train set: 2542, number of used features: 12\n",
      "[LightGBM] [Info] [binary:BoostFromScore]: pavg=0.520850 -> initscore=0.083447\n",
      "[LightGBM] [Info] Start training from score 0.083447\n"
     ]
    },
    {
     "data": {
      "text/plain": [
       "0.9328621908127208"
      ]
     },
     "execution_count": 14,
     "metadata": {},
     "output_type": "execute_result"
    }
   ],
   "source": [
    "LGBM = LGBMClassifier(force_col_wise=True)\n",
    "LGBM.fit(X_train, y_train)\n",
    "LGBM.score(X_eval, y_eval)"
   ]
  },
  {
   "cell_type": "markdown",
   "id": "21e29e7f-091d-4769-ae4a-56d4fe206d88",
   "metadata": {},
   "source": [
    "### Submission"
   ]
  },
  {
   "cell_type": "code",
   "execution_count": 19,
   "id": "b0507314-9bcd-47eb-b2ab-88bcc2c90f50",
   "metadata": {},
   "outputs": [],
   "source": [
    "Kenya = pd.read_csv(\"./Data/Kenya_testing.csv\")\n",
    "Spain =  pd.read_csv(\"./Data/Spain_validation.csv\")\n",
    "VNM =  pd.read_csv(\"./Data/VNM_testing.csv\")\n",
    "VNM.rename(columns={'Lon': 'lon', 'Lat': 'lat'}, inplace=True)\n",
    "\n",
    "submission = pd.DataFrame()\n",
    "country = ['Kenya', 'Spain', 'VNM']\n",
    "files = [Kenya, Spain, VNM]"
   ]
  },
  {
   "cell_type": "code",
   "execution_count": 21,
   "id": "16ea4397-f04b-433b-9bac-25c7746060d5",
   "metadata": {},
   "outputs": [],
   "source": [
    "for i in range(3):\n",
    "    tmp = pd.DataFrame()\n",
    "    # Create ID for submission file\n",
    "    ID = [country[i] + '_' + str(x) for x in files[i]['ID']]\n",
    "    # Predict\n",
    "    X_ = files[i][['blue_p50', 'green_p50', 'nir_p50', 'nira_p50', 're1_p50', 're2_p50', \n",
    "         're3_p50', 'red_p50', 'swir1_p50', 'swir2_p50', 'VV_p50', 'VH_p50']]\n",
    "    TARGET = LGBM.predict(X_)"
   ]
  },
  {
   "cell_type": "code",
   "execution_count": 23,
   "id": "4c6954c5-24ae-46e6-a681-f8e877f80c3b",
   "metadata": {},
   "outputs": [
    {
     "data": {
      "text/plain": [
       "(979,)"
      ]
     },
     "execution_count": 23,
     "metadata": {},
     "output_type": "execute_result"
    }
   ],
   "source": [
    "TARGET.shape"
   ]
  },
  {
   "cell_type": "code",
   "execution_count": null,
   "id": "2c6830d5-1f5c-4937-8f59-ac1afef8ec5b",
   "metadata": {},
   "outputs": [],
   "source": [
    "    \n",
    "    tmp[\"ID\"] = ID\n",
    "    tmp[\"TARGET\"] = TARGET\n",
    "    submission = pd.concat([submission, tmp], axis=0)\n",
    "submission.index = submission['ID']\n",
    "\n",
    "submission['TARGET'].to_csv('submission_1.csv')"
   ]
  },
  {
   "cell_type": "code",
   "execution_count": 10,
   "id": "5a900735-7c67-4929-b8c7-e9e82f5993d7",
   "metadata": {},
   "outputs": [
    {
     "data": {
      "text/html": [
       "<div>\n",
       "<style scoped>\n",
       "    .dataframe tbody tr th:only-of-type {\n",
       "        vertical-align: middle;\n",
       "    }\n",
       "\n",
       "    .dataframe tbody tr th {\n",
       "        vertical-align: top;\n",
       "    }\n",
       "\n",
       "    .dataframe thead th {\n",
       "        text-align: right;\n",
       "    }\n",
       "</style>\n",
       "<table border=\"1\" class=\"dataframe\">\n",
       "  <thead>\n",
       "    <tr style=\"text-align: right;\">\n",
       "      <th></th>\n",
       "      <th>ID</th>\n",
       "      <th>TARGET</th>\n",
       "    </tr>\n",
       "    <tr>\n",
       "      <th>ID</th>\n",
       "      <th></th>\n",
       "      <th></th>\n",
       "    </tr>\n",
       "  </thead>\n",
       "  <tbody>\n",
       "    <tr>\n",
       "      <th>Kenya_1</th>\n",
       "      <td>Kenya_1</td>\n",
       "      <td>1</td>\n",
       "    </tr>\n",
       "    <tr>\n",
       "      <th>Kenya_2</th>\n",
       "      <td>Kenya_2</td>\n",
       "      <td>1</td>\n",
       "    </tr>\n",
       "    <tr>\n",
       "      <th>Kenya_3</th>\n",
       "      <td>Kenya_3</td>\n",
       "      <td>1</td>\n",
       "    </tr>\n",
       "    <tr>\n",
       "      <th>Kenya_4</th>\n",
       "      <td>Kenya_4</td>\n",
       "      <td>1</td>\n",
       "    </tr>\n",
       "    <tr>\n",
       "      <th>Kenya_5</th>\n",
       "      <td>Kenya_5</td>\n",
       "      <td>1</td>\n",
       "    </tr>\n",
       "    <tr>\n",
       "      <th>Kenya_6</th>\n",
       "      <td>Kenya_6</td>\n",
       "      <td>1</td>\n",
       "    </tr>\n",
       "    <tr>\n",
       "      <th>Kenya_7</th>\n",
       "      <td>Kenya_7</td>\n",
       "      <td>1</td>\n",
       "    </tr>\n",
       "    <tr>\n",
       "      <th>Kenya_8</th>\n",
       "      <td>Kenya_8</td>\n",
       "      <td>1</td>\n",
       "    </tr>\n",
       "    <tr>\n",
       "      <th>Kenya_9</th>\n",
       "      <td>Kenya_9</td>\n",
       "      <td>1</td>\n",
       "    </tr>\n",
       "    <tr>\n",
       "      <th>Kenya_10</th>\n",
       "      <td>Kenya_10</td>\n",
       "      <td>1</td>\n",
       "    </tr>\n",
       "  </tbody>\n",
       "</table>\n",
       "</div>"
      ],
      "text/plain": [
       "                ID  TARGET\n",
       "ID                        \n",
       "Kenya_1    Kenya_1       1\n",
       "Kenya_2    Kenya_2       1\n",
       "Kenya_3    Kenya_3       1\n",
       "Kenya_4    Kenya_4       1\n",
       "Kenya_5    Kenya_5       1\n",
       "Kenya_6    Kenya_6       1\n",
       "Kenya_7    Kenya_7       1\n",
       "Kenya_8    Kenya_8       1\n",
       "Kenya_9    Kenya_9       1\n",
       "Kenya_10  Kenya_10       1"
      ]
     },
     "execution_count": 10,
     "metadata": {},
     "output_type": "execute_result"
    }
   ],
   "source": [
    "submission.head(10)"
   ]
  },
  {
   "cell_type": "code",
   "execution_count": 11,
   "id": "234a1fd0-f64c-4fd6-b202-4dee5495b6da",
   "metadata": {},
   "outputs": [
    {
     "data": {
      "text/plain": [
       "<BarContainer object of 12 artists>"
      ]
     },
     "execution_count": 11,
     "metadata": {},
     "output_type": "execute_result"
    },
    {
     "data": {
      "image/png": "[encoded data removed]",
      "text/plain": [
       "<Figure size 640x480 with 1 Axes>"
      ]
     },
     "metadata": {},
     "output_type": "display_data"
    }
   ],
   "source": [
    "plt.barh(LGBM.feature_name_, LGBM.feature_importances_)"
   ]
  },
  {
   "cell_type": "code",
   "execution_count": null,
   "id": "35822cfb-b8c5-45f8-af3f-1e5806fc8bc8",
   "metadata": {},
   "outputs": [],
   "source": []
  }
 ],
 "metadata": {
  "kernelspec": {
   "display_name": "Python 3 (ipykernel)",
   "language": "python",
   "name": "python3"
  },
  "language_info": {
   "codemirror_mode": {
    "name": "ipython",
    "version": 3
   },
   "file_extension": ".py",
   "mimetype": "text/x-python",
   "name": "python",
   "nbconvert_exporter": "python",
   "pygments_lexer": "ipython3",
   "version": "3.11.7"
  }
 },
 "nbformat": 4,
 "nbformat_minor": 5
}
