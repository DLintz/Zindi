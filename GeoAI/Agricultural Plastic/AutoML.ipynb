{
 "cells": [
  {
   "cell_type": "code",
   "execution_count": null,
   "id": "c0b93d58-4009-48f0-836e-6019aa03fde1",
   "metadata": {},
   "outputs": [],
   "source": [
    "import pandas as pd\n",
    "from flaml import AutoML\n",
    "from catboost import CatBoostClassifier\n",
    "from sklearn.model_selection import train_test_split"
   ]
  },
  {
   "cell_type": "code",
   "execution_count": null,
   "id": "6faa77b2-e101-44fa-95b8-9ef9e168b4ac",
   "metadata": {},
   "outputs": [],
   "source": [
    "#GeoAI/Agricultural Plastic/Data\n",
    "Kenya = pd.read_csv(\"GeoAI/Agricultural Plastic/Data/Kenya_training.csv\")\n",
    "Spain =  pd.read_csv(\"GeoAI/Agricultural Plastic/Data/Spain_training.csv\")\n",
    "VNM =  pd.read_csv(\"GeoAI/Agricultural Plastic/Data/VNM_training.csv\")\n",
    "VNM.rename(columns={'Lat': 'lat', 'Lon': 'lon'}, inplace=True)\n",
    "df = pd.concat([Kenya, Spain, VNM], axis=0)\n",
    "y_ = df['TARGET']-1\n",
    "X_ = df[['lat', 'lon', 'blue_p50', 'green_p50', 'nir_p50', 'nira_p50', 're1_p50', 're2_p50', \n",
    "         're3_p50', 'red_p50', 'swir1_p50', 'swir2_p50', 'VV_p50', 'VH_p50']]"
   ]
  },
  {
   "cell_type": "code",
   "execution_count": null,
   "id": "e5bbaf94-7266-4337-acd1-9d0e896925a2",
   "metadata": {},
   "outputs": [],
   "source": [
    "X_train, X_eval, y_train, y_eval = train_test_split(X_, y_, test_size=0.1, random_state=1)"
   ]
  },
  {
   "cell_type": "code",
   "execution_count": null,
   "id": "e69f7a7f-3746-4b99-8720-9546db7028e6",
   "metadata": {},
   "outputs": [],
   "source": [
    "\n",
    "automl = AutoML()\n",
    "\n",
    "automl_settings = {\n",
    "    \"time_budget\": 60,  # in seconds\n",
    "    \"metric\": \"accuracy\",\n",
    "    \"task\": \"classification\",\n",
    "    \"estimator_list\": ['lgbm', 'rf', 'catboost', 'extra_tree', 'lrl1'],\n",
    "}\n",
    "\n",
    "# Train with labeled input data\n",
    "automl.fit(X_train=X_train, y_train=y_train, **automl_settings)\n",
    "# Predict\n",
    "#print(automl.predict_proba(X_train))\n",
    "# Print the best model\n",
    "#print(automl.model.estimator)"
   ]
  },
  {
   "cell_type": "code",
   "execution_count": null,
   "id": "4c74be1e-8c7d-43a3-b78c-807e9f20c011",
   "metadata": {},
   "outputs": [],
   "source": []
  }
 ],
 "metadata": {
  "kernelspec": {
   "display_name": "Python 3 (ipykernel)",
   "language": "python",
   "name": "python3"
  },
  "language_info": {
   "codemirror_mode": {
    "name": "ipython",
    "version": 3
   },
   "file_extension": ".py",
   "mimetype": "text/x-python",
   "name": "python",
   "nbconvert_exporter": "python",
   "pygments_lexer": "ipython3",
   "version": "3.10.13"
  }
 },
 "nbformat": 4,
 "nbformat_minor": 5
}
